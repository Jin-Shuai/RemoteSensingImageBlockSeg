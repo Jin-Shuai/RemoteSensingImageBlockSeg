{
 "cells": [
  {
   "cell_type": "markdown",
   "metadata": {},
   "source": [
    "## 利用飞桨PaddleSeg进行遥感影像地块分割\n",
    "\n",
    "### PaddleSeg介绍\n",
    "- PaddleSeg是基于飞桨PaddlePaddle开发的端到端图像分割开发套件，涵盖了高精度和轻量级等不同方向的大量高质量分割模型。通过模块化的设计，提供了配置化驱动和API调用两种应用方式，帮助开发者更便捷地完成从训练到部署的全流程图像分割应用。\n"
   ]
  },
  {
   "cell_type": "markdown",
   "metadata": {},
   "source": [
    "第一步：新建notebook，选择通用\n",
    "\n",
    "第二步：配置notebook\n",
    "\n",
    "- 开发语言选择Python3.7，AI框架选择PaddlePaddle 2.0.0，资源规格选择GPU V100，启动。打开Notebook。\n",
    "- 上传本操作模板"
   ]
  },
  {
   "cell_type": "markdown",
   "metadata": {},
   "source": [
    "第三步：安装环境\n",
    "\n",
    "- 环境准备：安装paddlex，paddlepaddle-gpu。"
   ]
  },
  {
   "cell_type": "code",
   "execution_count": null,
   "metadata": {},
   "outputs": [],
   "source": [
    "# 升级pip\n",
    "!pip install --upgrade pip -i https://mirror.baidu.com/pypi/simple"
   ]
  },
  {
   "cell_type": "code",
   "execution_count": null,
   "metadata": {},
   "outputs": [],
   "source": [
    "!python -m pip install paddlepaddle-gpu==2.1.3.post101 -f https://www.paddlepaddle.org.cn/whl/linux/mkl/avx/stable.html"
   ]
  },
  {
   "cell_type": "code",
   "execution_count": null,
   "metadata": {},
   "outputs": [],
   "source": [
    "!pip install paddlex==2.0.0 -i https://mirror.baidu.com/pypi/simple"
   ]
  },
  {
   "cell_type": "markdown",
   "metadata": {},
   "source": [
    "第四步：下载代码包\n",
    "- 上传提前下载好的[PaddleSeg代码包](https://github.com/PaddlePaddle/PaddleSeg/)。\n",
    "- PaddleSeg2.3版本\n",
    "- 解压代码包"
   ]
  },
  {
   "cell_type": "code",
   "execution_count": null,
   "metadata": {},
   "outputs": [],
   "source": [
    "# 进入work\n",
    "%cd /home/aistudio/work\n",
    "\n",
    "# 下载PaddleSeg2.3\n",
    "!git clone https://gitee.com/paddlepaddle/PaddleSeg.git -b release/2.3"
   ]
  },
  {
   "cell_type": "code",
   "execution_count": null,
   "metadata": {},
   "outputs": [],
   "source": [
    "# 安装paddleseg\n",
    "!pip install paddleseg"
   ]
  },
  {
   "cell_type": "markdown",
   "metadata": {},
   "source": [
    "第五步：数据集上传并解压\n",
    "\n",
    "- 回到根目录\n",
    "- 上传数据集\n",
    "- 解压数据集"
   ]
  },
  {
   "cell_type": "code",
   "execution_count": null,
   "metadata": {},
   "outputs": [],
   "source": [
    "# 解压训练数据\n",
    "!unzip -q /home/aistudio/data/data77571/train_and_label.zip -d /home/aistudio/data/BlockSeg\n",
    "\n",
    "!unzip -q /home/aistudio/data/data77571/img_test.zip -d /home/aistudio/data/BlockSeg"
   ]
  },
  {
   "cell_type": "markdown",
   "metadata": {},
   "source": [
    "第六步：数据切分\n",
    "- 数据切分：\n",
    "- 若显示无filelock，则先执行下面命令安装filelock，再执行数据切分命令\n"
   ]
  },
  {
   "cell_type": "code",
   "execution_count": null,
   "metadata": {},
   "outputs": [],
   "source": [
    "! pip install filelock -i https://mirror.baidu.com/pypi/simple"
   ]
  },
  {
   "cell_type": "code",
   "execution_count": null,
   "metadata": {},
   "outputs": [],
   "source": [
    "# 划分训练集、测试集，比例为8：2\n",
    "\n",
    "import os\n",
    "import random\n",
    "import shutil\n",
    "from tqdm import tqdm\n",
    "\n",
    "label_path = \"/home/aistudio/data/BlockSeg/lab_train\"\n",
    "img_path = \"/home/aistudio/data/BlockSeg/img_train\"\n",
    "save_path = \"/home/aistudio/data/BlockSeg\"\n",
    "\n",
    "train_img_path = os.path.join(save_path, \"train\", \"images\")\n",
    "train_ann_path = os.path.join(save_path, \"train\", \"annotations\")\n",
    "\n",
    "val_img_path = os.path.join(save_path, \"val\", \"images\")\n",
    "val_ann_path = os.path.join(save_path, \"val\", \"annotations\")\n",
    "\n",
    "os.makedirs(train_img_path)\n",
    "os.makedirs(train_ann_path)\n",
    "os.makedirs(val_img_path)\n",
    "os.makedirs(val_ann_path)\n",
    "\n",
    "name_list = os.listdir(img_path)\n",
    "# print(name_list)\n",
    "random.shuffle(name_list)\n",
    "\n",
    "train_list_path = os.path.join(save_path, \"train.txt\")\n",
    "val_list_path = os.path.join(save_path, \"val.txt\")\n",
    "train_file = open(train_list_path, \"a\")\n",
    "val_file = open(val_list_path, \"a\")\n",
    "\n",
    "for name in tqdm(name_list[:int(len(name_list)*0.8)]):\n",
    "    img_old_path = os.path.join(img_path, name)\n",
    "    img_new_path = os.path.join(train_img_path, name)\n",
    "    shutil.copy(img_old_path, img_new_path)\n",
    "\n",
    "    ann_old_path = os.path.join(label_path, name.replace(\"jpg\", \"png\"))\n",
    "    ann_new_path = os.path.join(train_ann_path, name.replace(\"jpg\", \"png\"))\n",
    "    shutil.copy(ann_old_path, ann_new_path)\n",
    "    \n",
    "    train_file.write(\"train/images/{} train/annotations/{}\\n\".format(name, name.replace(\"jpg\", \"png\")))\n",
    "\n",
    "for name in tqdm(name_list[int(len(name_list)*0.8):]):\n",
    "    img_old_path = os.path.join(img_path, name)\n",
    "    img_new_path = os.path.join(val_img_path, name)\n",
    "    shutil.copy(img_old_path, img_new_path)\n",
    "\n",
    "    ann_old_path = os.path.join(label_path, name.replace(\"jpg\", \"png\"))\n",
    "    ann_new_path = os.path.join(val_ann_path, name.replace(\"jpg\", \"png\"))\n",
    "    shutil.copy(ann_old_path, ann_new_path)\n",
    "\n",
    "    val_file.write(\"val/images/{} val/annotations/{}\\n\".format(name, name.replace(\"jpg\", \"png\")))"
   ]
  },
  {
   "cell_type": "code",
   "execution_count": null,
   "metadata": {},
   "outputs": [],
   "source": [
    "# 查看数据集目录\n",
    "\n",
    "!tree /home/aistudio/data/BlockSeg/ -L 1\n"
   ]
  },
  {
   "cell_type": "markdown",
   "metadata": {},
   "source": [
    "第七步：模型训练\n",
    "\n",
    "- 修改目录PaddleSeg/configs/segformer/segformer_b0_cityscapes_1024x1024_160k.yml文件中的以下配置：\n",
    "-- batch_size：8\n",
    "-- iters：80000\n",
    "-- model下的num_classes：5\n",
    "\n",
    "\n",
    "- 修改PaddleSeg-release-2.3/confligs/_base_/cityscapes.yml配置,直接改为以下配置\n",
    "\n",
    "```\n",
    "batch_size: 8\n",
    "iters: 80000\n",
    "\n",
    "train_dataset:\n",
    "  type: Dataset\n",
    "  dataset_root: /home/aistudio/data/BlockSeg\n",
    "  train_path: /home/aistudio/data/BlockSeg/train.txt\n",
    "  num_classes: 5\n",
    "  transforms:\n",
    "    - type: ResizeStepScaling\n",
    "      min_scale_factor: 0.5\n",
    "      max_scale_factor: 2.0\n",
    "      scale_step_size: 0.25\n",
    "    - type: RandomPaddingCrop\n",
    "      crop_size: [1024, 512]\n",
    "    - type: RandomHorizontalFlip\n",
    "    - type: RandomDistort\n",
    "      brightness_range: 0.4\n",
    "      contrast_range: 0.4\n",
    "      saturation_range: 0.4\n",
    "    - type: Normalize\n",
    "  mode: train\n",
    "\n",
    "val_dataset:\n",
    "  type: Dataset\n",
    "  dataset_root: /home/aistudio/data/BlockSeg\n",
    "  val_path: /home/aistudio/data/BlockSeg/val.txt\n",
    "  num_classes: 5\n",
    "  transforms:\n",
    "    - type: Normalize\n",
    "  mode: val\n",
    "\n",
    "\n",
    "optimizer:\n",
    "  type: sgd\n",
    "  momentum: 0.9\n",
    "  weight_decay: 4.0e-5\n",
    "\n",
    "lr_scheduler:\n",
    "  type: PolynomialDecay\n",
    "  learning_rate: 0.01\n",
    "  end_lr: 0\n",
    "  power: 0.9\n",
    "\n",
    "loss:\n",
    "  types:\n",
    "    - type: CrossEntropyLoss\n",
    "  coef: [1]\n",
    "```"
   ]
  },
  {
   "cell_type": "markdown",
   "metadata": {},
   "source": [
    "- 进入PaddleSeg工作目录"
   ]
  },
  {
   "cell_type": "code",
   "execution_count": null,
   "metadata": {},
   "outputs": [],
   "source": [
    "%cd /home/aistudio/work/PaddleSeg"
   ]
  },
  {
   "cell_type": "markdown",
   "metadata": {},
   "source": [
    "- 选择启动单GPU卡训练模型"
   ]
  },
  {
   "cell_type": "code",
   "execution_count": null,
   "metadata": {},
   "outputs": [],
   "source": [
    "!export CUDA_VISIBLE_DEVICES=0 # 设置1张可用的卡"
   ]
  },
  {
   "cell_type": "markdown",
   "metadata": {},
   "source": [
    "- 启动模型训练\n",
    "-- 选择网络结构配置\n",
    "-- do_eval:每训练完一次都要进行一次验证\n",
    "-- use_vdl:可以启用vdl进行可视化训练\n",
    "-- save_intervel：每经过2000liters保存一次模型\n",
    "-- save_dir output：保存模型的路径在output文件夹内"
   ]
  },
  {
   "cell_type": "code",
   "execution_count": null,
   "metadata": {},
   "outputs": [],
   "source": [
    "#!python train.py --config configs/segformer/segformer_b0_cityscapes_1024x1024_160k.yml --do_eval --use_vdl --save_interval 50 --save_dir output\n",
    "\n",
    "!python train.py --config configs/fastscnn/fastscnn_cityscapes_1024x1024_160k.yml --do_eval --use_vdl --save_interval 50 --save_dir output"
   ]
  },
  {
   "cell_type": "code",
   "execution_count": 13,
   "metadata": {
    "execution": {
     "iopub.status.idle": "2021-11-30T01:38:14.280628Z",
     "shell.execute_reply": "2021-11-30T01:38:14.279523Z",
     "shell.execute_reply.started": "2021-11-29T23:33:54.632215Z"
    }
   },
   "outputs": [
    {
     "name": "stdout",
     "output_type": "stream",
     "text": [
      "2021-11-30 09:37:56 [INFO]\t[TRAIN] epoch: 2, iter: 11530/160000, loss: 1.7873, lr: 0.046752, batch_cost: 1.0802, reader_cost: 0.91451, ips: 7.4060 samples/sec | ETA 44:32:58\n",
      "2021-11-30 09:38:07 [INFO]\t[TRAIN] epoch: 2, iter: 11540/160000, loss: 1.6959, lr: 0.046749, batch_cost: 1.1210, reader_cost: 0.95655, ips: 7.1365 samples/sec | ETA 46:13:43\n",
      "^C\n"
     ]
    }
   ],
   "source": [
    "# 断点续训\n",
    "#!python train.py --config configs/segformer/segformer_b0_cityscapes_1024x1024_160k.yml --resume_model output/iter_115000 --do_eval --use_vdl --save_interval 5000 --save_dir output\n",
    "\n",
    "!python train.py --config configs/fastscnn/fastscnn_cityscapes_1024x1024_160k.yml --resume_model output/iter_5000 --do_eval --use_vdl --save_interval 5000 --save_dir output"
   ]
  },
  {
   "cell_type": "markdown",
   "metadata": {},
   "source": [
    "- 第八步：模型验证"
   ]
  },
  {
   "cell_type": "code",
   "execution_count": null,
   "metadata": {},
   "outputs": [],
   "source": [
    "!python val.py --config configs/segformer/segformer_b0_cityscapes_1024x1024_160k.yml --model_path output/best_model/model.pdparams"
   ]
  },
  {
   "cell_type": "markdown",
   "metadata": {},
   "source": [
    "在图像分割领域中，评估模型质量主要是通过三个指标进行判断，准确率（acc）、平均交并比（Mean Intersection over Union，简称mIoU）、Kappa系数。\n",
    "\n",
    "- 准确率：指类别预测正确的像素占总像素的比例，准确率越高模型质量越好。\n",
    "- 平均交并比：对每个类别数据集单独进行推理计算，计算出的预测区域和实际区域交集除以预测区域和实际区域的并集，然后将所有类别得到的结果取平均。在本例中，正常情况下模型在验证集上的mIoU指标值会达到0.80以上，显示信息示例如下所示，第3行的mIoU=0.8526即为mIoU。\n",
    "- Kappa系数：一个用于一致性检验的指标，可以用于衡量分类的效果。kappa系数的计算是基于混淆矩阵的，取值为-1到1之间，通常大于0。其公式如下所示，P0P_0P0为分类器的准确率，PeP_eP**e为随机分类器的准确率。Kappa系数越高模型质量越好。"
   ]
  },
  {
   "cell_type": "markdown",
   "metadata": {},
   "source": [
    "- 第九步：模型预测\n",
    "-- 输出的预测结果，可在PaddleSeg-release-2.3/output/result/added_prediction 内查看"
   ]
  },
  {
   "cell_type": "code",
   "execution_count": 15,
   "metadata": {
    "execution": {
     "iopub.execute_input": "2021-11-30T01:38:46.181452Z",
     "iopub.status.busy": "2021-11-30T01:38:46.180980Z",
     "iopub.status.idle": "2021-11-30T01:41:12.389488Z",
     "shell.execute_reply": "2021-11-30T01:41:12.388523Z",
     "shell.execute_reply.started": "2021-11-30T01:38:46.181413Z"
    }
   },
   "outputs": [
    {
     "name": "stdout",
     "output_type": "stream",
     "text": [
      "2021-11-30 09:38:47 [INFO]\t\n",
      "---------------Config Information---------------\n",
      "batch_size: 8\n",
      "iters: 160000\n",
      "loss:\n",
      "  coef:\n",
      "  - 1.0\n",
      "  - 0.4\n",
      "  types:\n",
      "  - type: CrossEntropyLoss\n",
      "lr_scheduler:\n",
      "  end_lr: 0.0001\n",
      "  learning_rate: 0.05\n",
      "  power: 0.9\n",
      "  type: PolynomialDecay\n",
      "model:\n",
      "  enable_auxiliary_loss: true\n",
      "  num_classes: 5\n",
      "  pretrained: null\n",
      "  type: FastSCNN\n",
      "optimizer:\n",
      "  momentum: 0.9\n",
      "  type: sgd\n",
      "  weight_decay: 4.0e-05\n",
      "train_dataset:\n",
      "  dataset_root: /home/aistudio/data/BlockSeg\n",
      "  mode: train\n",
      "  num_classes: 5\n",
      "  train_path: /home/aistudio/data/BlockSeg/train.txt\n",
      "  transforms:\n",
      "  - max_scale_factor: 2.0\n",
      "    min_scale_factor: 0.5\n",
      "    scale_step_size: 0.25\n",
      "    type: ResizeStepScaling\n",
      "  - crop_size:\n",
      "    - 1024\n",
      "    - 1024\n",
      "    type: RandomPaddingCrop\n",
      "  - type: RandomHorizontalFlip\n",
      "  - brightness_range: 0.4\n",
      "    contrast_range: 0.4\n",
      "    saturation_range: 0.4\n",
      "    type: RandomDistort\n",
      "  - type: Normalize\n",
      "  type: Dataset\n",
      "val_dataset:\n",
      "  dataset_root: /home/aistudio/data/BlockSeg\n",
      "  mode: val\n",
      "  num_classes: 5\n",
      "  transforms:\n",
      "  - type: Normalize\n",
      "  type: Dataset\n",
      "  val_path: /home/aistudio/data/BlockSeg/val.txt\n",
      "------------------------------------------------\n",
      "W1130 09:38:47.929778  6881 device_context.cc:404] Please NOTE: device: 0, GPU Compute Capability: 7.0, Driver API Version: 10.1, Runtime API Version: 10.1\n",
      "W1130 09:38:47.929849  6881 device_context.cc:422] device: 0, cuDNN Version: 7.6.\n",
      "2021-11-30 09:38:53 [INFO]\tNumber of predict images = 4608\n",
      "2021-11-30 09:38:53 [INFO]\tLoading pretrained model from output/iter_10000/model.pdparams\n",
      "2021-11-30 09:38:53 [INFO]\tThere are 246/246 variables loaded into FastSCNN.\n",
      "2021-11-30 09:38:53 [INFO]\tStart to predict...\n",
      "4608/4608 [==============================] - 138s 30ms/step\n"
     ]
    }
   ],
   "source": [
    "#!python predict.py --config configs/segformer/segformer_b0_cityscapes_1024x1024_160k.yml --model_path output/iter_130000/model.pdparams --image_path /home/aistudio/data/BlockSeg/img_testA --save_dir output/result\n",
    "\n",
    "!python predict.py --config configs/fastscnn/fastscnn_cityscapes_1024x1024_160k.yml --model_path output/iter_10000/model.pdparams --image_path /home/aistudio/data/BlockSeg/img_testA --save_dir output/result"
   ]
  },
  {
   "cell_type": "markdown",
   "metadata": {},
   "source": [
    "- 第十步：输出比赛结果\n",
    "-- 输出的预测结果，可在PaddleSeg-release-2.3/output/result/added_prediction 内查看"
   ]
  },
  {
   "cell_type": "code",
   "execution_count": 16,
   "metadata": {
    "execution": {
     "iopub.execute_input": "2021-11-30T01:42:35.615262Z",
     "iopub.status.busy": "2021-11-30T01:42:35.614154Z",
     "iopub.status.idle": "2021-11-30T01:42:35.620275Z",
     "shell.execute_reply": "2021-11-30T01:42:35.619667Z",
     "shell.execute_reply.started": "2021-11-30T01:42:35.615217Z"
    }
   },
   "outputs": [
    {
     "name": "stdout",
     "output_type": "stream",
     "text": [
      "/home/aistudio/work/PaddleSeg/output/result\n"
     ]
    }
   ],
   "source": [
    "%cd output/result"
   ]
  },
  {
   "cell_type": "code",
   "execution_count": 17,
   "metadata": {
    "execution": {
     "iopub.execute_input": "2021-11-30T01:42:38.246515Z",
     "iopub.status.busy": "2021-11-30T01:42:38.245291Z",
     "iopub.status.idle": "2021-11-30T01:42:39.080774Z",
     "shell.execute_reply": "2021-11-30T01:42:39.079528Z",
     "shell.execute_reply.started": "2021-11-30T01:42:38.246467Z"
    }
   },
   "outputs": [],
   "source": [
    "!zip -q -r result.zip pseudo_color_prediction\n"
   ]
  }
 ],
 "metadata": {
  "kernelspec": {
   "display_name": "Python 3",
   "language": "python",
   "name": "py35-paddle1.2.0"
  },
  "language_info": {
   "codemirror_mode": {
    "name": "ipython",
    "version": 3
   },
   "file_extension": ".py",
   "mimetype": "text/x-python",
   "name": "python",
   "nbconvert_exporter": "python",
   "pygments_lexer": "ipython3",
   "version": "3.7.4"
  }
 },
 "nbformat": 4,
 "nbformat_minor": 4
}
